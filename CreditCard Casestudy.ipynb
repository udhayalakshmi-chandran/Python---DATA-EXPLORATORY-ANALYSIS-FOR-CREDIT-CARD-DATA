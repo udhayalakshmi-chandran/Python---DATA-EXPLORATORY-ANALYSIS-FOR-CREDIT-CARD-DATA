{
 "cells": [
  {
   "cell_type": "code",
   "execution_count": 1,
   "id": "139a9e75",
   "metadata": {},
   "outputs": [],
   "source": [
    "import pandas as pd\n",
    "import numpy as np\n",
    "import matplotlib.pyplot as plt\n",
    "import datetime as dt\n",
    "import seaborn as sns\n",
    "import re\n",
    "import pyodbc"
   ]
  },
  {
   "cell_type": "code",
   "execution_count": 2,
   "id": "1035345f",
   "metadata": {},
   "outputs": [],
   "source": [
    "#1. In the above dataset,\n",
    "#a. In case age is less than 18, replace it with mean of age values."
   ]
  },
  {
   "cell_type": "code",
   "execution_count": 3,
   "id": "ef130ec1",
   "metadata": {},
   "outputs": [],
   "source": [
    "cust_acq = pd.read_csv('C://Users//sandisk//Downloads//DataScience using PYTHON//Case Studies//Python Foundation Case Study 2 - Credit Card Case Study//Case Study 2 - Credit Card Case Study//Customer Acqusition.csv//')"
   ]
  },
  {
   "cell_type": "code",
   "execution_count": 4,
   "id": "4b4e95e0",
   "metadata": {},
   "outputs": [],
   "source": [
    "spend = pd.read_csv('C://Users//sandisk//Downloads//DataScience using PYTHON//Case Studies//Python Foundation Case Study 2 - Credit Card Case Study//Case Study 2 - Credit Card Case Study//spend.csv//')"
   ]
  },
  {
   "cell_type": "code",
   "execution_count": 5,
   "id": "250a3066",
   "metadata": {},
   "outputs": [],
   "source": [
    "repayment = pd.read_csv('C://Users//sandisk//Downloads//DataScience using PYTHON//Case Studies//Python Foundation Case Study 2 - Credit Card Case Study//Case Study 2 - Credit Card Case Study//Repayment.csv//')"
   ]
  },
  {
   "cell_type": "code",
   "execution_count": 6,
   "id": "45a51e20",
   "metadata": {},
   "outputs": [
    {
     "data": {
      "text/plain": [
       "6"
      ]
     },
     "execution_count": 6,
     "metadata": {},
     "output_type": "execute_result"
    }
   ],
   "source": [
    "(cust_acq['Age']<=18).sum()"
   ]
  },
  {
   "cell_type": "code",
   "execution_count": 7,
   "id": "b12ca29e",
   "metadata": {},
   "outputs": [],
   "source": [
    "age_mean = int(cust_acq['Age'].mean())"
   ]
  },
  {
   "cell_type": "code",
   "execution_count": 8,
   "id": "cd36726e",
   "metadata": {},
   "outputs": [],
   "source": [
    "cust_acq.loc[cust_acq['Age'] <= 18, 'Age'] = age_mean"
   ]
  },
  {
   "cell_type": "code",
   "execution_count": 9,
   "id": "26128b7e",
   "metadata": {},
   "outputs": [
    {
     "data": {
      "text/plain": [
       "0"
      ]
     },
     "execution_count": 9,
     "metadata": {},
     "output_type": "execute_result"
    }
   ],
   "source": [
    "(cust_acq['Age']<=18).sum()"
   ]
  },
  {
   "cell_type": "code",
   "execution_count": 10,
   "id": "1fcd7df1",
   "metadata": {},
   "outputs": [],
   "source": [
    "#b. In case spend amount is more than the limit, replace it with 50% of that customer’s limit. \n",
    "#(customer’s limit provided in acquisition table is the per transaction limit on his card)"
   ]
  },
  {
   "cell_type": "code",
   "execution_count": 11,
   "id": "fb155e8f",
   "metadata": {},
   "outputs": [],
   "source": [
    "cust_spend = pd.merge(cust_acq,spend,on='Customer',how = 'inner')"
   ]
  },
  {
   "cell_type": "code",
   "execution_count": 12,
   "id": "35a62685",
   "metadata": {},
   "outputs": [],
   "source": [
    "cust_spend['Amount'] = cust_spend['Amount'].where(cust_spend['Amount'] <= cust_spend['Limit'], cust_spend['Limit'] * 0.5)"
   ]
  },
  {
   "cell_type": "code",
   "execution_count": 13,
   "id": "41e6a7bf",
   "metadata": {},
   "outputs": [
    {
     "data": {
      "text/plain": [
       "0"
      ]
     },
     "execution_count": 13,
     "metadata": {},
     "output_type": "execute_result"
    }
   ],
   "source": [
    "(cust_spend['Amount']>cust_spend['Limit']).sum()"
   ]
  },
  {
   "cell_type": "code",
   "execution_count": 14,
   "id": "b61700aa",
   "metadata": {},
   "outputs": [],
   "source": [
    "#c. Incase the repayment amount is more than the limit, replace the repayment with the limit."
   ]
  },
  {
   "cell_type": "code",
   "execution_count": 15,
   "id": "3613ca36",
   "metadata": {},
   "outputs": [
    {
     "data": {
      "text/plain": [
       "Index(['SL No:', 'Customer', 'Month', 'Amount', 'Unnamed: 4'], dtype='object')"
      ]
     },
     "execution_count": 15,
     "metadata": {},
     "output_type": "execute_result"
    }
   ],
   "source": [
    "repayment.columns"
   ]
  },
  {
   "cell_type": "code",
   "execution_count": 16,
   "id": "b68526b4",
   "metadata": {},
   "outputs": [],
   "source": [
    "repayment.rename(columns={'Month':'Repay.Month', 'Amount':'Repay_Amount'},inplace = True)"
   ]
  },
  {
   "cell_type": "code",
   "execution_count": 17,
   "id": "00f85a8b",
   "metadata": {},
   "outputs": [],
   "source": [
    "merged_df = pd.merge(cust_spend,repayment, left_on=['Customer','Sl No:'], right_on = ['Customer','SL No:'])"
   ]
  },
  {
   "cell_type": "code",
   "execution_count": 18,
   "id": "13035f27",
   "metadata": {},
   "outputs": [
    {
     "data": {
      "text/plain": [
       "Index(['No', 'Customer', 'Age', 'City', 'Product', 'Limit', 'Company',\n",
       "       'Segment', 'Sl No:', 'Month', 'Type', 'Amount', 'SL No:', 'Repay.Month',\n",
       "       'Repay_Amount', 'Unnamed: 4'],\n",
       "      dtype='object')"
      ]
     },
     "execution_count": 18,
     "metadata": {},
     "output_type": "execute_result"
    }
   ],
   "source": [
    "merged_df.columns"
   ]
  },
  {
   "cell_type": "code",
   "execution_count": 19,
   "id": "5b700bc7",
   "metadata": {},
   "outputs": [],
   "source": [
    "merged_df.drop(columns = 'Unnamed: 4', inplace = True)"
   ]
  },
  {
   "cell_type": "code",
   "execution_count": 20,
   "id": "1755f578",
   "metadata": {},
   "outputs": [
    {
     "data": {
      "text/plain": [
       "600"
      ]
     },
     "execution_count": 20,
     "metadata": {},
     "output_type": "execute_result"
    }
   ],
   "source": [
    "(merged_df['Repay_Amount']>merged_df['Limit']).sum()"
   ]
  },
  {
   "cell_type": "code",
   "execution_count": 21,
   "id": "831301e7",
   "metadata": {},
   "outputs": [],
   "source": [
    "merged_df['Repay_Amount'] = merged_df['Repay_Amount'].where(merged_df['Repay_Amount'] <= merged_df['Limit'],merged_df['Limit'])"
   ]
  },
  {
   "cell_type": "code",
   "execution_count": 22,
   "id": "1fb4056a",
   "metadata": {},
   "outputs": [
    {
     "data": {
      "text/plain": [
       "0"
      ]
     },
     "execution_count": 22,
     "metadata": {},
     "output_type": "execute_result"
    }
   ],
   "source": [
    "(merged_df['Repay_Amount']>merged_df['Limit']).sum()"
   ]
  },
  {
   "cell_type": "code",
   "execution_count": 23,
   "id": "db60339e",
   "metadata": {},
   "outputs": [],
   "source": [
    "#2. From the above dataset create the following summaries:\n",
    "#a. How many distinct customers exist?"
   ]
  },
  {
   "cell_type": "code",
   "execution_count": 24,
   "id": "2425d901",
   "metadata": {},
   "outputs": [
    {
     "data": {
      "text/plain": [
       "100"
      ]
     },
     "execution_count": 24,
     "metadata": {},
     "output_type": "execute_result"
    }
   ],
   "source": [
    "merged_df['Customer'].nunique()"
   ]
  },
  {
   "cell_type": "code",
   "execution_count": 25,
   "id": "d75d875d",
   "metadata": {},
   "outputs": [],
   "source": [
    "# b. How many distinct categories exist?"
   ]
  },
  {
   "cell_type": "code",
   "execution_count": 26,
   "id": "a340806d",
   "metadata": {},
   "outputs": [
    {
     "data": {
      "text/plain": [
       "15"
      ]
     },
     "execution_count": 26,
     "metadata": {},
     "output_type": "execute_result"
    }
   ],
   "source": [
    "merged_df['Type'].nunique()"
   ]
  },
  {
   "cell_type": "code",
   "execution_count": 27,
   "id": "1ed5f295",
   "metadata": {},
   "outputs": [],
   "source": [
    "#c. What is the average monthly spend by customers?"
   ]
  },
  {
   "cell_type": "code",
   "execution_count": 28,
   "id": "65e6e6ff",
   "metadata": {},
   "outputs": [
    {
     "name": "stderr",
     "output_type": "stream",
     "text": [
      "C:\\Users\\sandisk\\AppData\\Local\\Temp\\ipykernel_5920\\1599234366.py:1: UserWarning: Could not infer format, so each element will be parsed individually, falling back to `dateutil`. To ensure parsing is consistent and as-expected, please specify a format.\n",
      "  spend['Month'] = pd.to_datetime(spend['Month'])\n"
     ]
    }
   ],
   "source": [
    "spend['Month'] = pd.to_datetime(spend['Month'])"
   ]
  },
  {
   "cell_type": "code",
   "execution_count": 29,
   "id": "5953f369",
   "metadata": {},
   "outputs": [],
   "source": [
    "spend['Month_Name'] = spend['Month'].dt.strftime('%B')"
   ]
  },
  {
   "cell_type": "code",
   "execution_count": 30,
   "id": "9827a907",
   "metadata": {},
   "outputs": [
    {
     "data": {
      "text/html": [
       "<div>\n",
       "<style scoped>\n",
       "    .dataframe tbody tr th:only-of-type {\n",
       "        vertical-align: middle;\n",
       "    }\n",
       "\n",
       "    .dataframe tbody tr th {\n",
       "        vertical-align: top;\n",
       "    }\n",
       "\n",
       "    .dataframe thead th {\n",
       "        text-align: right;\n",
       "    }\n",
       "</style>\n",
       "<table border=\"1\" class=\"dataframe\">\n",
       "  <thead>\n",
       "    <tr style=\"text-align: right;\">\n",
       "      <th></th>\n",
       "      <th>Month_Name</th>\n",
       "      <th>Amount</th>\n",
       "    </tr>\n",
       "  </thead>\n",
       "  <tbody>\n",
       "    <tr>\n",
       "      <th>0</th>\n",
       "      <td>April</td>\n",
       "      <td>236671.847533</td>\n",
       "    </tr>\n",
       "    <tr>\n",
       "      <th>1</th>\n",
       "      <td>August</td>\n",
       "      <td>236056.328571</td>\n",
       "    </tr>\n",
       "    <tr>\n",
       "      <th>2</th>\n",
       "      <td>December</td>\n",
       "      <td>208987.020357</td>\n",
       "    </tr>\n",
       "    <tr>\n",
       "      <th>3</th>\n",
       "      <td>February</td>\n",
       "      <td>233037.216471</td>\n",
       "    </tr>\n",
       "    <tr>\n",
       "      <th>4</th>\n",
       "      <td>January</td>\n",
       "      <td>256221.133553</td>\n",
       "    </tr>\n",
       "    <tr>\n",
       "      <th>5</th>\n",
       "      <td>July</td>\n",
       "      <td>268042.287143</td>\n",
       "    </tr>\n",
       "    <tr>\n",
       "      <th>6</th>\n",
       "      <td>June</td>\n",
       "      <td>241329.181250</td>\n",
       "    </tr>\n",
       "    <tr>\n",
       "      <th>7</th>\n",
       "      <td>March</td>\n",
       "      <td>246255.783723</td>\n",
       "    </tr>\n",
       "    <tr>\n",
       "      <th>8</th>\n",
       "      <td>May</td>\n",
       "      <td>241277.023476</td>\n",
       "    </tr>\n",
       "    <tr>\n",
       "      <th>9</th>\n",
       "      <td>November</td>\n",
       "      <td>249099.824405</td>\n",
       "    </tr>\n",
       "    <tr>\n",
       "      <th>10</th>\n",
       "      <td>October</td>\n",
       "      <td>215352.487857</td>\n",
       "    </tr>\n",
       "    <tr>\n",
       "      <th>11</th>\n",
       "      <td>September</td>\n",
       "      <td>219369.892143</td>\n",
       "    </tr>\n",
       "  </tbody>\n",
       "</table>\n",
       "</div>"
      ],
      "text/plain": [
       "   Month_Name         Amount\n",
       "0       April  236671.847533\n",
       "1      August  236056.328571\n",
       "2    December  208987.020357\n",
       "3    February  233037.216471\n",
       "4     January  256221.133553\n",
       "5        July  268042.287143\n",
       "6        June  241329.181250\n",
       "7       March  246255.783723\n",
       "8         May  241277.023476\n",
       "9    November  249099.824405\n",
       "10    October  215352.487857\n",
       "11  September  219369.892143"
      ]
     },
     "execution_count": 30,
     "metadata": {},
     "output_type": "execute_result"
    }
   ],
   "source": [
    "spend.groupby('Month_Name').agg({'Amount':np.mean}).reset_index()"
   ]
  },
  {
   "cell_type": "code",
   "execution_count": 31,
   "id": "4a940fed",
   "metadata": {},
   "outputs": [],
   "source": [
    "#d. What is the average monthly repayment by customers?"
   ]
  },
  {
   "cell_type": "code",
   "execution_count": 32,
   "id": "bc0feef9",
   "metadata": {},
   "outputs": [
    {
     "data": {
      "text/plain": [
       "Index(['SL No:', 'Customer', 'Repay.Month', 'Repay_Amount', 'Unnamed: 4'], dtype='object')"
      ]
     },
     "execution_count": 32,
     "metadata": {},
     "output_type": "execute_result"
    }
   ],
   "source": [
    "repayment.columns"
   ]
  },
  {
   "cell_type": "code",
   "execution_count": 33,
   "id": "76d68c65",
   "metadata": {},
   "outputs": [
    {
     "name": "stderr",
     "output_type": "stream",
     "text": [
      "C:\\Users\\sandisk\\AppData\\Local\\Temp\\ipykernel_5920\\112036771.py:1: UserWarning: Could not infer format, so each element will be parsed individually, falling back to `dateutil`. To ensure parsing is consistent and as-expected, please specify a format.\n",
      "  repayment['Repay.Month'] = pd.to_datetime(repayment['Repay.Month'] )\n"
     ]
    }
   ],
   "source": [
    "repayment['Repay.Month'] = pd.to_datetime(repayment['Repay.Month'] )"
   ]
  },
  {
   "cell_type": "code",
   "execution_count": 34,
   "id": "c304d77b",
   "metadata": {},
   "outputs": [],
   "source": [
    "repayment['Month_Name'] = repayment['Repay.Month'].dt.strftime('%B')"
   ]
  },
  {
   "cell_type": "code",
   "execution_count": 35,
   "id": "60793e5b",
   "metadata": {},
   "outputs": [
    {
     "data": {
      "text/html": [
       "<div>\n",
       "<style scoped>\n",
       "    .dataframe tbody tr th:only-of-type {\n",
       "        vertical-align: middle;\n",
       "    }\n",
       "\n",
       "    .dataframe tbody tr th {\n",
       "        vertical-align: top;\n",
       "    }\n",
       "\n",
       "    .dataframe thead th {\n",
       "        text-align: right;\n",
       "    }\n",
       "</style>\n",
       "<table border=\"1\" class=\"dataframe\">\n",
       "  <thead>\n",
       "    <tr style=\"text-align: right;\">\n",
       "      <th></th>\n",
       "      <th>Month_Name</th>\n",
       "      <th>Repay_Amount</th>\n",
       "    </tr>\n",
       "  </thead>\n",
       "  <tbody>\n",
       "    <tr>\n",
       "      <th>0</th>\n",
       "      <td>April</td>\n",
       "      <td>259649.413200</td>\n",
       "    </tr>\n",
       "    <tr>\n",
       "      <th>1</th>\n",
       "      <td>August</td>\n",
       "      <td>254564.734898</td>\n",
       "    </tr>\n",
       "    <tr>\n",
       "      <th>2</th>\n",
       "      <td>December</td>\n",
       "      <td>286557.952500</td>\n",
       "    </tr>\n",
       "    <tr>\n",
       "      <th>3</th>\n",
       "      <td>February</td>\n",
       "      <td>248756.162368</td>\n",
       "    </tr>\n",
       "    <tr>\n",
       "      <th>4</th>\n",
       "      <td>January</td>\n",
       "      <td>245121.019624</td>\n",
       "    </tr>\n",
       "    <tr>\n",
       "      <th>5</th>\n",
       "      <td>July</td>\n",
       "      <td>253512.325102</td>\n",
       "    </tr>\n",
       "    <tr>\n",
       "      <th>6</th>\n",
       "      <td>June</td>\n",
       "      <td>220647.477083</td>\n",
       "    </tr>\n",
       "    <tr>\n",
       "      <th>7</th>\n",
       "      <td>March</td>\n",
       "      <td>241654.966393</td>\n",
       "    </tr>\n",
       "    <tr>\n",
       "      <th>8</th>\n",
       "      <td>May</td>\n",
       "      <td>257669.622782</td>\n",
       "    </tr>\n",
       "    <tr>\n",
       "      <th>9</th>\n",
       "      <td>November</td>\n",
       "      <td>229867.344524</td>\n",
       "    </tr>\n",
       "    <tr>\n",
       "      <th>10</th>\n",
       "      <td>October</td>\n",
       "      <td>240307.718333</td>\n",
       "    </tr>\n",
       "    <tr>\n",
       "      <th>11</th>\n",
       "      <td>September</td>\n",
       "      <td>226865.354750</td>\n",
       "    </tr>\n",
       "  </tbody>\n",
       "</table>\n",
       "</div>"
      ],
      "text/plain": [
       "   Month_Name   Repay_Amount\n",
       "0       April  259649.413200\n",
       "1      August  254564.734898\n",
       "2    December  286557.952500\n",
       "3    February  248756.162368\n",
       "4     January  245121.019624\n",
       "5        July  253512.325102\n",
       "6        June  220647.477083\n",
       "7       March  241654.966393\n",
       "8         May  257669.622782\n",
       "9    November  229867.344524\n",
       "10    October  240307.718333\n",
       "11  September  226865.354750"
      ]
     },
     "execution_count": 35,
     "metadata": {},
     "output_type": "execute_result"
    }
   ],
   "source": [
    "repayment.groupby('Month_Name').agg({'Repay_Amount':np.mean}).reset_index()"
   ]
  },
  {
   "cell_type": "code",
   "execution_count": 36,
   "id": "d1952254",
   "metadata": {},
   "outputs": [],
   "source": [
    "#e. If the monthly rate of interest is 2.9%, what is the profit for the bank for each month? "
   ]
  },
  {
   "cell_type": "code",
   "execution_count": 37,
   "id": "ffe41900",
   "metadata": {},
   "outputs": [],
   "source": [
    "Monthly_Spend =  spend.groupby('Month_Name').agg({'Amount':np.sum}).reset_index()"
   ]
  },
  {
   "cell_type": "code",
   "execution_count": 38,
   "id": "673f249c",
   "metadata": {},
   "outputs": [],
   "source": [
    "Monthly_repayment = repayment.groupby('Month_Name').agg({'Repay_Amount':np.sum}).reset_index()"
   ]
  },
  {
   "cell_type": "code",
   "execution_count": 39,
   "id": "a1db8252",
   "metadata": {},
   "outputs": [],
   "source": [
    "Monthly_profit = pd.merge(Monthly_Spend, Monthly_repayment, on='Month_Name', how='inner')\n",
    "\n",
    "Monthly_profit['Monthly_Profit'] = Monthly_profit['Repay_Amount'] - Monthly_profit['Amount']\n"
   ]
  },
  {
   "cell_type": "code",
   "execution_count": 40,
   "id": "aef0abc8",
   "metadata": {},
   "outputs": [
    {
     "data": {
      "text/html": [
       "<div>\n",
       "<style scoped>\n",
       "    .dataframe tbody tr th:only-of-type {\n",
       "        vertical-align: middle;\n",
       "    }\n",
       "\n",
       "    .dataframe tbody tr th {\n",
       "        vertical-align: top;\n",
       "    }\n",
       "\n",
       "    .dataframe thead th {\n",
       "        text-align: right;\n",
       "    }\n",
       "</style>\n",
       "<table border=\"1\" class=\"dataframe\">\n",
       "  <thead>\n",
       "    <tr style=\"text-align: right;\">\n",
       "      <th></th>\n",
       "      <th>Month_Name</th>\n",
       "      <th>Amount</th>\n",
       "      <th>Repay_Amount</th>\n",
       "      <th>Monthly_Profit</th>\n",
       "    </tr>\n",
       "  </thead>\n",
       "  <tbody>\n",
       "    <tr>\n",
       "      <th>0</th>\n",
       "      <td>April</td>\n",
       "      <td>35500777.13</td>\n",
       "      <td>38947411.98</td>\n",
       "      <td>3446634.85</td>\n",
       "    </tr>\n",
       "    <tr>\n",
       "      <th>1</th>\n",
       "      <td>August</td>\n",
       "      <td>9914365.80</td>\n",
       "      <td>12473672.01</td>\n",
       "      <td>2559306.21</td>\n",
       "    </tr>\n",
       "    <tr>\n",
       "      <th>2</th>\n",
       "      <td>December</td>\n",
       "      <td>5851636.57</td>\n",
       "      <td>6877390.86</td>\n",
       "      <td>1025754.29</td>\n",
       "    </tr>\n",
       "    <tr>\n",
       "      <th>3</th>\n",
       "      <td>February</td>\n",
       "      <td>55462857.52</td>\n",
       "      <td>56716405.02</td>\n",
       "      <td>1253547.50</td>\n",
       "    </tr>\n",
       "    <tr>\n",
       "      <th>4</th>\n",
       "      <td>January</td>\n",
       "      <td>89421175.61</td>\n",
       "      <td>78193605.26</td>\n",
       "      <td>-11227570.35</td>\n",
       "    </tr>\n",
       "    <tr>\n",
       "      <th>5</th>\n",
       "      <td>July</td>\n",
       "      <td>11257776.06</td>\n",
       "      <td>12422103.93</td>\n",
       "      <td>1164327.87</td>\n",
       "    </tr>\n",
       "    <tr>\n",
       "      <th>6</th>\n",
       "      <td>June</td>\n",
       "      <td>13514434.15</td>\n",
       "      <td>10591078.90</td>\n",
       "      <td>-2923355.25</td>\n",
       "    </tr>\n",
       "    <tr>\n",
       "      <th>7</th>\n",
       "      <td>March</td>\n",
       "      <td>56885086.04</td>\n",
       "      <td>52922437.64</td>\n",
       "      <td>-3962648.40</td>\n",
       "    </tr>\n",
       "    <tr>\n",
       "      <th>8</th>\n",
       "      <td>May</td>\n",
       "      <td>50668174.93</td>\n",
       "      <td>68540119.66</td>\n",
       "      <td>17871944.73</td>\n",
       "    </tr>\n",
       "    <tr>\n",
       "      <th>9</th>\n",
       "      <td>November</td>\n",
       "      <td>20924385.25</td>\n",
       "      <td>19308856.94</td>\n",
       "      <td>-1615528.31</td>\n",
       "    </tr>\n",
       "    <tr>\n",
       "      <th>10</th>\n",
       "      <td>October</td>\n",
       "      <td>6029869.66</td>\n",
       "      <td>5767385.24</td>\n",
       "      <td>-262484.42</td>\n",
       "    </tr>\n",
       "    <tr>\n",
       "      <th>11</th>\n",
       "      <td>September</td>\n",
       "      <td>9213535.47</td>\n",
       "      <td>9074614.19</td>\n",
       "      <td>-138921.28</td>\n",
       "    </tr>\n",
       "  </tbody>\n",
       "</table>\n",
       "</div>"
      ],
      "text/plain": [
       "   Month_Name       Amount  Repay_Amount  Monthly_Profit\n",
       "0       April  35500777.13   38947411.98      3446634.85\n",
       "1      August   9914365.80   12473672.01      2559306.21\n",
       "2    December   5851636.57    6877390.86      1025754.29\n",
       "3    February  55462857.52   56716405.02      1253547.50\n",
       "4     January  89421175.61   78193605.26    -11227570.35\n",
       "5        July  11257776.06   12422103.93      1164327.87\n",
       "6        June  13514434.15   10591078.90     -2923355.25\n",
       "7       March  56885086.04   52922437.64     -3962648.40\n",
       "8         May  50668174.93   68540119.66     17871944.73\n",
       "9    November  20924385.25   19308856.94     -1615528.31\n",
       "10    October   6029869.66    5767385.24      -262484.42\n",
       "11  September   9213535.47    9074614.19      -138921.28"
      ]
     },
     "execution_count": 40,
     "metadata": {},
     "output_type": "execute_result"
    }
   ],
   "source": [
    "Monthly_profit "
   ]
  },
  {
   "cell_type": "code",
   "execution_count": 41,
   "id": "92a38215",
   "metadata": {},
   "outputs": [],
   "source": [
    "rate_of_int = 0.029"
   ]
  },
  {
   "cell_type": "code",
   "execution_count": 42,
   "id": "4d130fc4",
   "metadata": {},
   "outputs": [],
   "source": [
    "Monthly_profit.loc[Monthly_profit['Monthly_Profit'] < 0, 'Monthly_Profit'] = 0"
   ]
  },
  {
   "cell_type": "code",
   "execution_count": 43,
   "id": "450924c9",
   "metadata": {},
   "outputs": [
    {
     "data": {
      "text/html": [
       "<div>\n",
       "<style scoped>\n",
       "    .dataframe tbody tr th:only-of-type {\n",
       "        vertical-align: middle;\n",
       "    }\n",
       "\n",
       "    .dataframe tbody tr th {\n",
       "        vertical-align: top;\n",
       "    }\n",
       "\n",
       "    .dataframe thead th {\n",
       "        text-align: right;\n",
       "    }\n",
       "</style>\n",
       "<table border=\"1\" class=\"dataframe\">\n",
       "  <thead>\n",
       "    <tr style=\"text-align: right;\">\n",
       "      <th></th>\n",
       "      <th>Month_Name</th>\n",
       "      <th>Amount</th>\n",
       "      <th>Repay_Amount</th>\n",
       "      <th>Monthly_Profit</th>\n",
       "    </tr>\n",
       "  </thead>\n",
       "  <tbody>\n",
       "    <tr>\n",
       "      <th>0</th>\n",
       "      <td>April</td>\n",
       "      <td>35500777.13</td>\n",
       "      <td>38947411.98</td>\n",
       "      <td>3446634.85</td>\n",
       "    </tr>\n",
       "    <tr>\n",
       "      <th>1</th>\n",
       "      <td>August</td>\n",
       "      <td>9914365.80</td>\n",
       "      <td>12473672.01</td>\n",
       "      <td>2559306.21</td>\n",
       "    </tr>\n",
       "    <tr>\n",
       "      <th>2</th>\n",
       "      <td>December</td>\n",
       "      <td>5851636.57</td>\n",
       "      <td>6877390.86</td>\n",
       "      <td>1025754.29</td>\n",
       "    </tr>\n",
       "    <tr>\n",
       "      <th>3</th>\n",
       "      <td>February</td>\n",
       "      <td>55462857.52</td>\n",
       "      <td>56716405.02</td>\n",
       "      <td>1253547.50</td>\n",
       "    </tr>\n",
       "    <tr>\n",
       "      <th>4</th>\n",
       "      <td>January</td>\n",
       "      <td>89421175.61</td>\n",
       "      <td>78193605.26</td>\n",
       "      <td>0.00</td>\n",
       "    </tr>\n",
       "    <tr>\n",
       "      <th>5</th>\n",
       "      <td>July</td>\n",
       "      <td>11257776.06</td>\n",
       "      <td>12422103.93</td>\n",
       "      <td>1164327.87</td>\n",
       "    </tr>\n",
       "    <tr>\n",
       "      <th>6</th>\n",
       "      <td>June</td>\n",
       "      <td>13514434.15</td>\n",
       "      <td>10591078.90</td>\n",
       "      <td>0.00</td>\n",
       "    </tr>\n",
       "    <tr>\n",
       "      <th>7</th>\n",
       "      <td>March</td>\n",
       "      <td>56885086.04</td>\n",
       "      <td>52922437.64</td>\n",
       "      <td>0.00</td>\n",
       "    </tr>\n",
       "    <tr>\n",
       "      <th>8</th>\n",
       "      <td>May</td>\n",
       "      <td>50668174.93</td>\n",
       "      <td>68540119.66</td>\n",
       "      <td>17871944.73</td>\n",
       "    </tr>\n",
       "    <tr>\n",
       "      <th>9</th>\n",
       "      <td>November</td>\n",
       "      <td>20924385.25</td>\n",
       "      <td>19308856.94</td>\n",
       "      <td>0.00</td>\n",
       "    </tr>\n",
       "    <tr>\n",
       "      <th>10</th>\n",
       "      <td>October</td>\n",
       "      <td>6029869.66</td>\n",
       "      <td>5767385.24</td>\n",
       "      <td>0.00</td>\n",
       "    </tr>\n",
       "    <tr>\n",
       "      <th>11</th>\n",
       "      <td>September</td>\n",
       "      <td>9213535.47</td>\n",
       "      <td>9074614.19</td>\n",
       "      <td>0.00</td>\n",
       "    </tr>\n",
       "  </tbody>\n",
       "</table>\n",
       "</div>"
      ],
      "text/plain": [
       "   Month_Name       Amount  Repay_Amount  Monthly_Profit\n",
       "0       April  35500777.13   38947411.98      3446634.85\n",
       "1      August   9914365.80   12473672.01      2559306.21\n",
       "2    December   5851636.57    6877390.86      1025754.29\n",
       "3    February  55462857.52   56716405.02      1253547.50\n",
       "4     January  89421175.61   78193605.26            0.00\n",
       "5        July  11257776.06   12422103.93      1164327.87\n",
       "6        June  13514434.15   10591078.90            0.00\n",
       "7       March  56885086.04   52922437.64            0.00\n",
       "8         May  50668174.93   68540119.66     17871944.73\n",
       "9    November  20924385.25   19308856.94            0.00\n",
       "10    October   6029869.66    5767385.24            0.00\n",
       "11  September   9213535.47    9074614.19            0.00"
      ]
     },
     "execution_count": 43,
     "metadata": {},
     "output_type": "execute_result"
    }
   ],
   "source": [
    "Monthly_profit"
   ]
  },
  {
   "cell_type": "code",
   "execution_count": 44,
   "id": "3df32430",
   "metadata": {},
   "outputs": [],
   "source": [
    "Monthly_profit['Interest_Earned'] = Monthly_profit['Monthly_Profit'] * rate_of_int\n",
    "\n",
    "Monthly_profit['Net_Profit'] = Monthly_profit['Monthly_Profit'] - Monthly_profit['Interest_Earned'].astype(int)\n"
   ]
  },
  {
   "cell_type": "code",
   "execution_count": 45,
   "id": "8202da68",
   "metadata": {},
   "outputs": [
    {
     "data": {
      "text/html": [
       "<div>\n",
       "<style scoped>\n",
       "    .dataframe tbody tr th:only-of-type {\n",
       "        vertical-align: middle;\n",
       "    }\n",
       "\n",
       "    .dataframe tbody tr th {\n",
       "        vertical-align: top;\n",
       "    }\n",
       "\n",
       "    .dataframe thead th {\n",
       "        text-align: right;\n",
       "    }\n",
       "</style>\n",
       "<table border=\"1\" class=\"dataframe\">\n",
       "  <thead>\n",
       "    <tr style=\"text-align: right;\">\n",
       "      <th></th>\n",
       "      <th>Month_Name</th>\n",
       "      <th>Amount</th>\n",
       "      <th>Repay_Amount</th>\n",
       "      <th>Monthly_Profit</th>\n",
       "      <th>Interest_Earned</th>\n",
       "      <th>Net_Profit</th>\n",
       "    </tr>\n",
       "  </thead>\n",
       "  <tbody>\n",
       "    <tr>\n",
       "      <th>0</th>\n",
       "      <td>April</td>\n",
       "      <td>35500777.13</td>\n",
       "      <td>38947411.98</td>\n",
       "      <td>3446634.85</td>\n",
       "      <td>99952.41065</td>\n",
       "      <td>3346682.85</td>\n",
       "    </tr>\n",
       "    <tr>\n",
       "      <th>1</th>\n",
       "      <td>August</td>\n",
       "      <td>9914365.80</td>\n",
       "      <td>12473672.01</td>\n",
       "      <td>2559306.21</td>\n",
       "      <td>74219.88009</td>\n",
       "      <td>2485087.21</td>\n",
       "    </tr>\n",
       "    <tr>\n",
       "      <th>2</th>\n",
       "      <td>December</td>\n",
       "      <td>5851636.57</td>\n",
       "      <td>6877390.86</td>\n",
       "      <td>1025754.29</td>\n",
       "      <td>29746.87441</td>\n",
       "      <td>996008.29</td>\n",
       "    </tr>\n",
       "    <tr>\n",
       "      <th>3</th>\n",
       "      <td>February</td>\n",
       "      <td>55462857.52</td>\n",
       "      <td>56716405.02</td>\n",
       "      <td>1253547.50</td>\n",
       "      <td>36352.87750</td>\n",
       "      <td>1217195.50</td>\n",
       "    </tr>\n",
       "    <tr>\n",
       "      <th>4</th>\n",
       "      <td>January</td>\n",
       "      <td>89421175.61</td>\n",
       "      <td>78193605.26</td>\n",
       "      <td>0.00</td>\n",
       "      <td>0.00000</td>\n",
       "      <td>0.00</td>\n",
       "    </tr>\n",
       "    <tr>\n",
       "      <th>5</th>\n",
       "      <td>July</td>\n",
       "      <td>11257776.06</td>\n",
       "      <td>12422103.93</td>\n",
       "      <td>1164327.87</td>\n",
       "      <td>33765.50823</td>\n",
       "      <td>1130562.87</td>\n",
       "    </tr>\n",
       "    <tr>\n",
       "      <th>6</th>\n",
       "      <td>June</td>\n",
       "      <td>13514434.15</td>\n",
       "      <td>10591078.90</td>\n",
       "      <td>0.00</td>\n",
       "      <td>0.00000</td>\n",
       "      <td>0.00</td>\n",
       "    </tr>\n",
       "    <tr>\n",
       "      <th>7</th>\n",
       "      <td>March</td>\n",
       "      <td>56885086.04</td>\n",
       "      <td>52922437.64</td>\n",
       "      <td>0.00</td>\n",
       "      <td>0.00000</td>\n",
       "      <td>0.00</td>\n",
       "    </tr>\n",
       "    <tr>\n",
       "      <th>8</th>\n",
       "      <td>May</td>\n",
       "      <td>50668174.93</td>\n",
       "      <td>68540119.66</td>\n",
       "      <td>17871944.73</td>\n",
       "      <td>518286.39717</td>\n",
       "      <td>17353658.73</td>\n",
       "    </tr>\n",
       "    <tr>\n",
       "      <th>9</th>\n",
       "      <td>November</td>\n",
       "      <td>20924385.25</td>\n",
       "      <td>19308856.94</td>\n",
       "      <td>0.00</td>\n",
       "      <td>0.00000</td>\n",
       "      <td>0.00</td>\n",
       "    </tr>\n",
       "    <tr>\n",
       "      <th>10</th>\n",
       "      <td>October</td>\n",
       "      <td>6029869.66</td>\n",
       "      <td>5767385.24</td>\n",
       "      <td>0.00</td>\n",
       "      <td>0.00000</td>\n",
       "      <td>0.00</td>\n",
       "    </tr>\n",
       "    <tr>\n",
       "      <th>11</th>\n",
       "      <td>September</td>\n",
       "      <td>9213535.47</td>\n",
       "      <td>9074614.19</td>\n",
       "      <td>0.00</td>\n",
       "      <td>0.00000</td>\n",
       "      <td>0.00</td>\n",
       "    </tr>\n",
       "  </tbody>\n",
       "</table>\n",
       "</div>"
      ],
      "text/plain": [
       "   Month_Name       Amount  Repay_Amount  Monthly_Profit  Interest_Earned  \\\n",
       "0       April  35500777.13   38947411.98      3446634.85      99952.41065   \n",
       "1      August   9914365.80   12473672.01      2559306.21      74219.88009   \n",
       "2    December   5851636.57    6877390.86      1025754.29      29746.87441   \n",
       "3    February  55462857.52   56716405.02      1253547.50      36352.87750   \n",
       "4     January  89421175.61   78193605.26            0.00          0.00000   \n",
       "5        July  11257776.06   12422103.93      1164327.87      33765.50823   \n",
       "6        June  13514434.15   10591078.90            0.00          0.00000   \n",
       "7       March  56885086.04   52922437.64            0.00          0.00000   \n",
       "8         May  50668174.93   68540119.66     17871944.73     518286.39717   \n",
       "9    November  20924385.25   19308856.94            0.00          0.00000   \n",
       "10    October   6029869.66    5767385.24            0.00          0.00000   \n",
       "11  September   9213535.47    9074614.19            0.00          0.00000   \n",
       "\n",
       "     Net_Profit  \n",
       "0    3346682.85  \n",
       "1    2485087.21  \n",
       "2     996008.29  \n",
       "3    1217195.50  \n",
       "4          0.00  \n",
       "5    1130562.87  \n",
       "6          0.00  \n",
       "7          0.00  \n",
       "8   17353658.73  \n",
       "9          0.00  \n",
       "10         0.00  \n",
       "11         0.00  "
      ]
     },
     "execution_count": 45,
     "metadata": {},
     "output_type": "execute_result"
    }
   ],
   "source": [
    "Monthly_profit"
   ]
  },
  {
   "cell_type": "code",
   "execution_count": 46,
   "id": "6d092d25",
   "metadata": {},
   "outputs": [],
   "source": [
    "#f. What are the top 5 product types?"
   ]
  },
  {
   "cell_type": "code",
   "execution_count": 47,
   "id": "491a72cf",
   "metadata": {},
   "outputs": [
    {
     "data": {
      "text/plain": [
       "Index(['Sl No:', 'Customer', 'Month', 'Type', 'Amount', 'Month_Name'], dtype='object')"
      ]
     },
     "execution_count": 47,
     "metadata": {},
     "output_type": "execute_result"
    }
   ],
   "source": [
    "spend.columns"
   ]
  },
  {
   "cell_type": "code",
   "execution_count": 48,
   "id": "ec1c20cb",
   "metadata": {},
   "outputs": [
    {
     "data": {
      "text/html": [
       "<div>\n",
       "<style scoped>\n",
       "    .dataframe tbody tr th:only-of-type {\n",
       "        vertical-align: middle;\n",
       "    }\n",
       "\n",
       "    .dataframe tbody tr th {\n",
       "        vertical-align: top;\n",
       "    }\n",
       "\n",
       "    .dataframe thead th {\n",
       "        text-align: right;\n",
       "    }\n",
       "</style>\n",
       "<table border=\"1\" class=\"dataframe\">\n",
       "  <thead>\n",
       "    <tr style=\"text-align: right;\">\n",
       "      <th></th>\n",
       "      <th>Amount</th>\n",
       "    </tr>\n",
       "    <tr>\n",
       "      <th>Type</th>\n",
       "      <th></th>\n",
       "    </tr>\n",
       "  </thead>\n",
       "  <tbody>\n",
       "    <tr>\n",
       "      <th>PETRO</th>\n",
       "      <td>49863174.09</td>\n",
       "    </tr>\n",
       "    <tr>\n",
       "      <th>CAMERA</th>\n",
       "      <td>41481571.96</td>\n",
       "    </tr>\n",
       "    <tr>\n",
       "      <th>FOOD</th>\n",
       "      <td>37773338.43</td>\n",
       "    </tr>\n",
       "    <tr>\n",
       "      <th>TRAIN TICKET</th>\n",
       "      <td>33067077.15</td>\n",
       "    </tr>\n",
       "    <tr>\n",
       "      <th>AIR TICKET</th>\n",
       "      <td>32955445.42</td>\n",
       "    </tr>\n",
       "  </tbody>\n",
       "</table>\n",
       "</div>"
      ],
      "text/plain": [
       "                   Amount\n",
       "Type                     \n",
       "PETRO         49863174.09\n",
       "CAMERA        41481571.96\n",
       "FOOD          37773338.43\n",
       "TRAIN TICKET  33067077.15\n",
       "AIR TICKET    32955445.42"
      ]
     },
     "execution_count": 48,
     "metadata": {},
     "output_type": "execute_result"
    }
   ],
   "source": [
    "spend.groupby('Type').agg({'Amount':np.sum}).sort_values(by = 'Amount',ascending = False).head(5)"
   ]
  },
  {
   "cell_type": "code",
   "execution_count": 49,
   "id": "0e2d1e15",
   "metadata": {},
   "outputs": [],
   "source": [
    "# g. Which city is having maximum spend?"
   ]
  },
  {
   "cell_type": "code",
   "execution_count": 50,
   "id": "4050283a",
   "metadata": {},
   "outputs": [
    {
     "data": {
      "text/plain": [
       "Index(['No', 'Customer', 'Age', 'City', 'Product', 'Limit', 'Company',\n",
       "       'Segment', 'Sl No:', 'Month', 'Type', 'Amount', 'SL No:', 'Repay.Month',\n",
       "       'Repay_Amount'],\n",
       "      dtype='object')"
      ]
     },
     "execution_count": 50,
     "metadata": {},
     "output_type": "execute_result"
    }
   ],
   "source": [
    "merged_df.columns"
   ]
  },
  {
   "cell_type": "code",
   "execution_count": 51,
   "id": "2d5eeef4",
   "metadata": {},
   "outputs": [
    {
     "data": {
      "text/plain": [
       "'COCHIN'"
      ]
     },
     "execution_count": 51,
     "metadata": {},
     "output_type": "execute_result"
    }
   ],
   "source": [
    "merged_df.groupby('City').agg({'Amount':np.sum}).idxmax().max()"
   ]
  },
  {
   "cell_type": "code",
   "execution_count": 52,
   "id": "dd5b2369",
   "metadata": {},
   "outputs": [],
   "source": [
    "#h. Which age group is spending more money?"
   ]
  },
  {
   "cell_type": "code",
   "execution_count": 53,
   "id": "d0509375",
   "metadata": {},
   "outputs": [
    {
     "data": {
      "text/html": [
       "<div>\n",
       "<style scoped>\n",
       "    .dataframe tbody tr th:only-of-type {\n",
       "        vertical-align: middle;\n",
       "    }\n",
       "\n",
       "    .dataframe tbody tr th {\n",
       "        vertical-align: top;\n",
       "    }\n",
       "\n",
       "    .dataframe thead th {\n",
       "        text-align: right;\n",
       "    }\n",
       "</style>\n",
       "<table border=\"1\" class=\"dataframe\">\n",
       "  <thead>\n",
       "    <tr style=\"text-align: right;\">\n",
       "      <th></th>\n",
       "      <th>Amount</th>\n",
       "    </tr>\n",
       "    <tr>\n",
       "      <th>Age</th>\n",
       "      <th></th>\n",
       "    </tr>\n",
       "  </thead>\n",
       "  <tbody>\n",
       "    <tr>\n",
       "      <th>46</th>\n",
       "      <td>20240746.17</td>\n",
       "    </tr>\n",
       "  </tbody>\n",
       "</table>\n",
       "</div>"
      ],
      "text/plain": [
       "          Amount\n",
       "Age             \n",
       "46   20240746.17"
      ]
     },
     "execution_count": 53,
     "metadata": {},
     "output_type": "execute_result"
    }
   ],
   "source": [
    "merged_df.groupby('Age').agg({'Amount':np.sum}).sort_values(by='Amount',ascending = False).head(1)"
   ]
  },
  {
   "cell_type": "code",
   "execution_count": 54,
   "id": "10d6cee8",
   "metadata": {},
   "outputs": [],
   "source": [
    "#i. Who are the top 10 customers in terms of repayment?"
   ]
  },
  {
   "cell_type": "code",
   "execution_count": 55,
   "id": "60bb582c",
   "metadata": {},
   "outputs": [
    {
     "data": {
      "text/plain": [
       "Index(['SL No:', 'Customer', 'Repay.Month', 'Repay_Amount', 'Unnamed: 4',\n",
       "       'Month_Name'],\n",
       "      dtype='object')"
      ]
     },
     "execution_count": 55,
     "metadata": {},
     "output_type": "execute_result"
    }
   ],
   "source": [
    "repayment.columns"
   ]
  },
  {
   "cell_type": "code",
   "execution_count": 56,
   "id": "492c2c90",
   "metadata": {},
   "outputs": [
    {
     "data": {
      "text/html": [
       "<div>\n",
       "<style scoped>\n",
       "    .dataframe tbody tr th:only-of-type {\n",
       "        vertical-align: middle;\n",
       "    }\n",
       "\n",
       "    .dataframe tbody tr th {\n",
       "        vertical-align: top;\n",
       "    }\n",
       "\n",
       "    .dataframe thead th {\n",
       "        text-align: right;\n",
       "    }\n",
       "</style>\n",
       "<table border=\"1\" class=\"dataframe\">\n",
       "  <thead>\n",
       "    <tr style=\"text-align: right;\">\n",
       "      <th></th>\n",
       "      <th>Repay_Amount</th>\n",
       "    </tr>\n",
       "    <tr>\n",
       "      <th>Customer</th>\n",
       "      <th></th>\n",
       "    </tr>\n",
       "  </thead>\n",
       "  <tbody>\n",
       "    <tr>\n",
       "      <th>A61</th>\n",
       "      <td>10539142.91</td>\n",
       "    </tr>\n",
       "    <tr>\n",
       "      <th>A60</th>\n",
       "      <td>9876290.74</td>\n",
       "    </tr>\n",
       "    <tr>\n",
       "      <th>A13</th>\n",
       "      <td>9572000.66</td>\n",
       "    </tr>\n",
       "    <tr>\n",
       "      <th>A22</th>\n",
       "      <td>9372561.68</td>\n",
       "    </tr>\n",
       "    <tr>\n",
       "      <th>A21</th>\n",
       "      <td>9056336.15</td>\n",
       "    </tr>\n",
       "    <tr>\n",
       "      <th>A43</th>\n",
       "      <td>8489871.46</td>\n",
       "    </tr>\n",
       "    <tr>\n",
       "      <th>A45</th>\n",
       "      <td>8448334.87</td>\n",
       "    </tr>\n",
       "    <tr>\n",
       "      <th>A12</th>\n",
       "      <td>8334760.16</td>\n",
       "    </tr>\n",
       "    <tr>\n",
       "      <th>A48</th>\n",
       "      <td>8292416.75</td>\n",
       "    </tr>\n",
       "    <tr>\n",
       "      <th>A14</th>\n",
       "      <td>7943268.63</td>\n",
       "    </tr>\n",
       "  </tbody>\n",
       "</table>\n",
       "</div>"
      ],
      "text/plain": [
       "          Repay_Amount\n",
       "Customer              \n",
       "A61        10539142.91\n",
       "A60         9876290.74\n",
       "A13         9572000.66\n",
       "A22         9372561.68\n",
       "A21         9056336.15\n",
       "A43         8489871.46\n",
       "A45         8448334.87\n",
       "A12         8334760.16\n",
       "A48         8292416.75\n",
       "A14         7943268.63"
      ]
     },
     "execution_count": 56,
     "metadata": {},
     "output_type": "execute_result"
    }
   ],
   "source": [
    "repayment.groupby('Customer').agg({'Repay_Amount':np.sum}).sort_values(by = 'Repay_Amount',ascending = False).head(10)"
   ]
  },
  {
   "cell_type": "code",
   "execution_count": 57,
   "id": "4f82ba84",
   "metadata": {},
   "outputs": [],
   "source": [
    "#3. Calculate the city wise spend on each product on yearly basis. Also include a graphical representation for the same."
   ]
  },
  {
   "cell_type": "code",
   "execution_count": 58,
   "id": "04e2d30a",
   "metadata": {},
   "outputs": [
    {
     "name": "stderr",
     "output_type": "stream",
     "text": [
      "C:\\Users\\sandisk\\AppData\\Local\\Temp\\ipykernel_5920\\2522608491.py:1: UserWarning: Could not infer format, so each element will be parsed individually, falling back to `dateutil`. To ensure parsing is consistent and as-expected, please specify a format.\n",
      "  merged_df['Month'] = pd.to_datetime(merged_df['Month'] )\n"
     ]
    }
   ],
   "source": [
    "merged_df['Month'] = pd.to_datetime(merged_df['Month'] )\n",
    "merged_df['spend_year'] = merged_df['Month'].dt.year"
   ]
  },
  {
   "cell_type": "code",
   "execution_count": 59,
   "id": "6450e2db",
   "metadata": {},
   "outputs": [
    {
     "data": {
      "text/plain": [
       "Index(['No', 'Customer', 'Age', 'City', 'Product', 'Limit', 'Company',\n",
       "       'Segment', 'Sl No:', 'Month', 'Type', 'Amount', 'SL No:', 'Repay.Month',\n",
       "       'Repay_Amount', 'spend_year'],\n",
       "      dtype='object')"
      ]
     },
     "execution_count": 59,
     "metadata": {},
     "output_type": "execute_result"
    }
   ],
   "source": [
    "merged_df.columns"
   ]
  },
  {
   "cell_type": "code",
   "execution_count": 60,
   "id": "d06abd80",
   "metadata": {},
   "outputs": [],
   "source": [
    "city_product_year_spend = merged_df.groupby(['City','Product','spend_year']).agg({'Amount':np.sum})"
   ]
  },
  {
   "cell_type": "code",
   "execution_count": 61,
   "id": "8980c02c",
   "metadata": {},
   "outputs": [
    {
     "data": {
      "text/html": [
       "<div>\n",
       "<style scoped>\n",
       "    .dataframe tbody tr th:only-of-type {\n",
       "        vertical-align: middle;\n",
       "    }\n",
       "\n",
       "    .dataframe tbody tr th {\n",
       "        vertical-align: top;\n",
       "    }\n",
       "\n",
       "    .dataframe thead th {\n",
       "        text-align: right;\n",
       "    }\n",
       "</style>\n",
       "<table border=\"1\" class=\"dataframe\">\n",
       "  <thead>\n",
       "    <tr style=\"text-align: right;\">\n",
       "      <th></th>\n",
       "      <th></th>\n",
       "      <th></th>\n",
       "      <th>Amount</th>\n",
       "    </tr>\n",
       "    <tr>\n",
       "      <th>City</th>\n",
       "      <th>Product</th>\n",
       "      <th>spend_year</th>\n",
       "      <th></th>\n",
       "    </tr>\n",
       "  </thead>\n",
       "  <tbody>\n",
       "    <tr>\n",
       "      <th rowspan=\"5\" valign=\"top\">BANGALORE</th>\n",
       "      <th rowspan=\"3\" valign=\"top\">Gold</th>\n",
       "      <th>2004</th>\n",
       "      <td>8804407.74</td>\n",
       "    </tr>\n",
       "    <tr>\n",
       "      <th>2005</th>\n",
       "      <td>12892362.99</td>\n",
       "    </tr>\n",
       "    <tr>\n",
       "      <th>2006</th>\n",
       "      <td>12030611.09</td>\n",
       "    </tr>\n",
       "    <tr>\n",
       "      <th rowspan=\"2\" valign=\"top\">Platimum</th>\n",
       "      <th>2004</th>\n",
       "      <td>1112732.30</td>\n",
       "    </tr>\n",
       "    <tr>\n",
       "      <th>2005</th>\n",
       "      <td>912284.97</td>\n",
       "    </tr>\n",
       "    <tr>\n",
       "      <th>...</th>\n",
       "      <th>...</th>\n",
       "      <th>...</th>\n",
       "      <td>...</td>\n",
       "    </tr>\n",
       "    <tr>\n",
       "      <th rowspan=\"5\" valign=\"top\">TRIVANDRUM</th>\n",
       "      <th rowspan=\"2\" valign=\"top\">Platimum</th>\n",
       "      <th>2005</th>\n",
       "      <td>3601443.30</td>\n",
       "    </tr>\n",
       "    <tr>\n",
       "      <th>2006</th>\n",
       "      <td>2147403.75</td>\n",
       "    </tr>\n",
       "    <tr>\n",
       "      <th rowspan=\"3\" valign=\"top\">Silver</th>\n",
       "      <th>2004</th>\n",
       "      <td>209667.48</td>\n",
       "    </tr>\n",
       "    <tr>\n",
       "      <th>2005</th>\n",
       "      <td>269912.99</td>\n",
       "    </tr>\n",
       "    <tr>\n",
       "      <th>2006</th>\n",
       "      <td>555862.12</td>\n",
       "    </tr>\n",
       "  </tbody>\n",
       "</table>\n",
       "<p>72 rows × 1 columns</p>\n",
       "</div>"
      ],
      "text/plain": [
       "                                     Amount\n",
       "City       Product  spend_year             \n",
       "BANGALORE  Gold     2004         8804407.74\n",
       "                    2005        12892362.99\n",
       "                    2006        12030611.09\n",
       "           Platimum 2004         1112732.30\n",
       "                    2005          912284.97\n",
       "...                                     ...\n",
       "TRIVANDRUM Platimum 2005         3601443.30\n",
       "                    2006         2147403.75\n",
       "           Silver   2004          209667.48\n",
       "                    2005          269912.99\n",
       "                    2006          555862.12\n",
       "\n",
       "[72 rows x 1 columns]"
      ]
     },
     "execution_count": 61,
     "metadata": {},
     "output_type": "execute_result"
    }
   ],
   "source": [
    "city_product_year_spend"
   ]
  },
  {
   "cell_type": "code",
   "execution_count": 62,
   "id": "181d4d34",
   "metadata": {},
   "outputs": [],
   "source": [
    "pivot_table = pd.pivot_table(city_product_year_spend, values='Amount', index=['City', 'Product'], columns=['spend_year'], aggfunc=np.sum, fill_value=0)"
   ]
  },
  {
   "cell_type": "code",
   "execution_count": 63,
   "id": "4d527a8f",
   "metadata": {},
   "outputs": [
    {
     "data": {
      "text/html": [
       "<div>\n",
       "<style scoped>\n",
       "    .dataframe tbody tr th:only-of-type {\n",
       "        vertical-align: middle;\n",
       "    }\n",
       "\n",
       "    .dataframe tbody tr th {\n",
       "        vertical-align: top;\n",
       "    }\n",
       "\n",
       "    .dataframe thead th {\n",
       "        text-align: right;\n",
       "    }\n",
       "</style>\n",
       "<table border=\"1\" class=\"dataframe\">\n",
       "  <thead>\n",
       "    <tr style=\"text-align: right;\">\n",
       "      <th></th>\n",
       "      <th>spend_year</th>\n",
       "      <th>2004</th>\n",
       "      <th>2005</th>\n",
       "      <th>2006</th>\n",
       "    </tr>\n",
       "    <tr>\n",
       "      <th>City</th>\n",
       "      <th>Product</th>\n",
       "      <th></th>\n",
       "      <th></th>\n",
       "      <th></th>\n",
       "    </tr>\n",
       "  </thead>\n",
       "  <tbody>\n",
       "    <tr>\n",
       "      <th rowspan=\"3\" valign=\"top\">BANGALORE</th>\n",
       "      <th>Gold</th>\n",
       "      <td>8804407.74</td>\n",
       "      <td>12892362.99</td>\n",
       "      <td>12030611.09</td>\n",
       "    </tr>\n",
       "    <tr>\n",
       "      <th>Platimum</th>\n",
       "      <td>1112732.30</td>\n",
       "      <td>912284.97</td>\n",
       "      <td>685831.27</td>\n",
       "    </tr>\n",
       "    <tr>\n",
       "      <th>Silver</th>\n",
       "      <td>1291852.58</td>\n",
       "      <td>830612.34</td>\n",
       "      <td>1415480.94</td>\n",
       "    </tr>\n",
       "    <tr>\n",
       "      <th rowspan=\"3\" valign=\"top\">BOMBAY</th>\n",
       "      <th>Gold</th>\n",
       "      <td>6987853.53</td>\n",
       "      <td>8983018.28</td>\n",
       "      <td>7917144.31</td>\n",
       "    </tr>\n",
       "    <tr>\n",
       "      <th>Platimum</th>\n",
       "      <td>897264.94</td>\n",
       "      <td>711804.94</td>\n",
       "      <td>972130.01</td>\n",
       "    </tr>\n",
       "    <tr>\n",
       "      <th>Silver</th>\n",
       "      <td>532089.03</td>\n",
       "      <td>508988.54</td>\n",
       "      <td>1092833.80</td>\n",
       "    </tr>\n",
       "    <tr>\n",
       "      <th rowspan=\"3\" valign=\"top\">CALCUTTA</th>\n",
       "      <th>Gold</th>\n",
       "      <td>7477140.98</td>\n",
       "      <td>10303355.80</td>\n",
       "      <td>11167532.77</td>\n",
       "    </tr>\n",
       "    <tr>\n",
       "      <th>Platimum</th>\n",
       "      <td>2037690.30</td>\n",
       "      <td>4434696.31</td>\n",
       "      <td>3589606.66</td>\n",
       "    </tr>\n",
       "    <tr>\n",
       "      <th>Silver</th>\n",
       "      <td>500006.00</td>\n",
       "      <td>440147.06</td>\n",
       "      <td>1157956.42</td>\n",
       "    </tr>\n",
       "    <tr>\n",
       "      <th rowspan=\"3\" valign=\"top\">CHENNAI</th>\n",
       "      <th>Gold</th>\n",
       "      <td>1059618.50</td>\n",
       "      <td>3740945.58</td>\n",
       "      <td>2704288.62</td>\n",
       "    </tr>\n",
       "    <tr>\n",
       "      <th>Platimum</th>\n",
       "      <td>3535652.38</td>\n",
       "      <td>5053956.32</td>\n",
       "      <td>5024923.40</td>\n",
       "    </tr>\n",
       "    <tr>\n",
       "      <th>Silver</th>\n",
       "      <td>282056.86</td>\n",
       "      <td>377184.49</td>\n",
       "      <td>350009.50</td>\n",
       "    </tr>\n",
       "    <tr>\n",
       "      <th rowspan=\"3\" valign=\"top\">COCHIN</th>\n",
       "      <th>Gold</th>\n",
       "      <td>7315850.15</td>\n",
       "      <td>12110613.03</td>\n",
       "      <td>10499142.38</td>\n",
       "    </tr>\n",
       "    <tr>\n",
       "      <th>Platimum</th>\n",
       "      <td>3419904.07</td>\n",
       "      <td>4960921.71</td>\n",
       "      <td>4920592.29</td>\n",
       "    </tr>\n",
       "    <tr>\n",
       "      <th>Silver</th>\n",
       "      <td>814229.62</td>\n",
       "      <td>652269.38</td>\n",
       "      <td>1269990.87</td>\n",
       "    </tr>\n",
       "    <tr>\n",
       "      <th rowspan=\"3\" valign=\"top\">DELHI</th>\n",
       "      <th>Gold</th>\n",
       "      <td>2806495.00</td>\n",
       "      <td>1964845.27</td>\n",
       "      <td>2957103.32</td>\n",
       "    </tr>\n",
       "    <tr>\n",
       "      <th>Platimum</th>\n",
       "      <td>283512.89</td>\n",
       "      <td>494157.86</td>\n",
       "      <td>176788.72</td>\n",
       "    </tr>\n",
       "    <tr>\n",
       "      <th>Silver</th>\n",
       "      <td>768172.30</td>\n",
       "      <td>612311.21</td>\n",
       "      <td>854899.97</td>\n",
       "    </tr>\n",
       "    <tr>\n",
       "      <th rowspan=\"3\" valign=\"top\">PATNA</th>\n",
       "      <th>Gold</th>\n",
       "      <td>2072567.90</td>\n",
       "      <td>3252615.77</td>\n",
       "      <td>2276181.69</td>\n",
       "    </tr>\n",
       "    <tr>\n",
       "      <th>Platimum</th>\n",
       "      <td>1113069.60</td>\n",
       "      <td>2883231.07</td>\n",
       "      <td>1256137.65</td>\n",
       "    </tr>\n",
       "    <tr>\n",
       "      <th>Silver</th>\n",
       "      <td>756684.10</td>\n",
       "      <td>950094.19</td>\n",
       "      <td>700005.00</td>\n",
       "    </tr>\n",
       "    <tr>\n",
       "      <th rowspan=\"3\" valign=\"top\">TRIVANDRUM</th>\n",
       "      <th>Gold</th>\n",
       "      <td>2415102.84</td>\n",
       "      <td>1240375.85</td>\n",
       "      <td>2735710.87</td>\n",
       "    </tr>\n",
       "    <tr>\n",
       "      <th>Platimum</th>\n",
       "      <td>2161676.67</td>\n",
       "      <td>3601443.30</td>\n",
       "      <td>2147403.75</td>\n",
       "    </tr>\n",
       "    <tr>\n",
       "      <th>Silver</th>\n",
       "      <td>209667.48</td>\n",
       "      <td>269912.99</td>\n",
       "      <td>555862.12</td>\n",
       "    </tr>\n",
       "  </tbody>\n",
       "</table>\n",
       "</div>"
      ],
      "text/plain": [
       "spend_year                 2004         2005         2006\n",
       "City       Product                                       \n",
       "BANGALORE  Gold      8804407.74  12892362.99  12030611.09\n",
       "           Platimum  1112732.30    912284.97    685831.27\n",
       "           Silver    1291852.58    830612.34   1415480.94\n",
       "BOMBAY     Gold      6987853.53   8983018.28   7917144.31\n",
       "           Platimum   897264.94    711804.94    972130.01\n",
       "           Silver     532089.03    508988.54   1092833.80\n",
       "CALCUTTA   Gold      7477140.98  10303355.80  11167532.77\n",
       "           Platimum  2037690.30   4434696.31   3589606.66\n",
       "           Silver     500006.00    440147.06   1157956.42\n",
       "CHENNAI    Gold      1059618.50   3740945.58   2704288.62\n",
       "           Platimum  3535652.38   5053956.32   5024923.40\n",
       "           Silver     282056.86    377184.49    350009.50\n",
       "COCHIN     Gold      7315850.15  12110613.03  10499142.38\n",
       "           Platimum  3419904.07   4960921.71   4920592.29\n",
       "           Silver     814229.62    652269.38   1269990.87\n",
       "DELHI      Gold      2806495.00   1964845.27   2957103.32\n",
       "           Platimum   283512.89    494157.86    176788.72\n",
       "           Silver     768172.30    612311.21    854899.97\n",
       "PATNA      Gold      2072567.90   3252615.77   2276181.69\n",
       "           Platimum  1113069.60   2883231.07   1256137.65\n",
       "           Silver     756684.10    950094.19    700005.00\n",
       "TRIVANDRUM Gold      2415102.84   1240375.85   2735710.87\n",
       "           Platimum  2161676.67   3601443.30   2147403.75\n",
       "           Silver     209667.48    269912.99    555862.12"
      ]
     },
     "execution_count": 63,
     "metadata": {},
     "output_type": "execute_result"
    }
   ],
   "source": [
    "pivot_table"
   ]
  },
  {
   "cell_type": "code",
   "execution_count": 64,
   "id": "6bc8f05c",
   "metadata": {},
   "outputs": [
    {
     "data": {
      "image/png": "[encoded data removed]",
      "text/plain": [
       "<Figure size 1200x600 with 1 Axes>"
      ]
     },
     "metadata": {},
     "output_type": "display_data"
    }
   ],
   "source": [
    "pivot_table.plot(kind='bar', figsize=(12, 6))\n",
    "plt.title('City-wise Spend on Each Product (Yearly)')\n",
    "plt.xlabel('City, Product')\n",
    "plt.ylabel('Spend')\n",
    "plt.xticks(rotation=45)\n",
    "plt.legend(title='Year')\n",
    "plt.tight_layout()\n",
    "plt.show()"
   ]
  },
  {
   "cell_type": "code",
   "execution_count": 65,
   "id": "4590249f",
   "metadata": {},
   "outputs": [],
   "source": [
    "#4. Create graphs for\n",
    "#a. Monthly comparison of total spends, city wise"
   ]
  },
  {
   "cell_type": "code",
   "execution_count": 66,
   "id": "32abe2f4",
   "metadata": {},
   "outputs": [],
   "source": [
    "merged_df['spend_month'] = merged_df['Month'].dt.strftime('%B')"
   ]
  },
  {
   "cell_type": "code",
   "execution_count": 67,
   "id": "f2461f05",
   "metadata": {},
   "outputs": [
    {
     "data": {
      "text/plain": [
       "Index(['No', 'Customer', 'Age', 'City', 'Product', 'Limit', 'Company',\n",
       "       'Segment', 'Sl No:', 'Month', 'Type', 'Amount', 'SL No:', 'Repay.Month',\n",
       "       'Repay_Amount', 'spend_year', 'spend_month'],\n",
       "      dtype='object')"
      ]
     },
     "execution_count": 67,
     "metadata": {},
     "output_type": "execute_result"
    }
   ],
   "source": [
    "merged_df.columns"
   ]
  },
  {
   "cell_type": "code",
   "execution_count": 68,
   "id": "eac98548",
   "metadata": {},
   "outputs": [],
   "source": [
    "city_month_spends = merged_df.groupby(['City','spend_month']).agg({'Amount':np.sum})"
   ]
  },
  {
   "cell_type": "code",
   "execution_count": 69,
   "id": "08c62a50",
   "metadata": {},
   "outputs": [],
   "source": [
    "pivot = city_month_spends.pivot_table(values = 'Amount', index = 'spend_month', columns = 'City')"
   ]
  },
  {
   "cell_type": "code",
   "execution_count": 70,
   "id": "a18f4ba9",
   "metadata": {},
   "outputs": [
    {
     "data": {
      "image/png": "[encoded data removed]",
      "text/plain": [
       "<Figure size 1200x600 with 1 Axes>"
      ]
     },
     "metadata": {},
     "output_type": "display_data"
    }
   ],
   "source": [
    "pivot.plot(kind = 'bar', figsize = (12,6), width = 0.8)\n",
    "plt.title('Citywise monthly comparison of total spends')\n",
    "plt.legend(title = 'City')\n",
    "plt.ylabel('Spend Amount')\n",
    "plt.xlabel('Month')\n",
    "plt.xticks(rotation=45)\n",
    "plt.tight_layout()\n",
    "plt.show()"
   ]
  },
  {
   "cell_type": "code",
   "execution_count": 71,
   "id": "899cb555",
   "metadata": {},
   "outputs": [],
   "source": [
    "#b. Comparison of yearly spend on air tickets"
   ]
  },
  {
   "cell_type": "code",
   "execution_count": 72,
   "id": "059f8229",
   "metadata": {},
   "outputs": [],
   "source": [
    "air_ticket = merged_df[merged_df['Type'] == 'AIR TICKET']\n",
    "yearly_spend_airticket = air_ticket.groupby(['Type','spend_year']).agg({'Amount':np.sum})"
   ]
  },
  {
   "cell_type": "code",
   "execution_count": 73,
   "id": "54b4325a",
   "metadata": {},
   "outputs": [
    {
     "data": {
      "image/png": "[encoded data removed]",
      "text/plain": [
       "<Figure size 640x480 with 1 Axes>"
      ]
     },
     "metadata": {},
     "output_type": "display_data"
    }
   ],
   "source": [
    "yearly_spend_airticket.plot(kind = 'bar', color = ['brown']) \n",
    "plt.title('Yearly spend on Air tickets')\n",
    "plt.ylabel('Spend')\n",
    "plt.xlabel('Year')\n",
    "plt.xticks(rotation = 20)\n",
    "plt.tight_layout()\n",
    "plt.show()\n"
   ]
  },
  {
   "cell_type": "code",
   "execution_count": 74,
   "id": "a92c9bbb",
   "metadata": {},
   "outputs": [],
   "source": [
    "# c. Comparison of monthly spend for each product (look for any seasonalitythat exists in terms of spend)"
   ]
  },
  {
   "cell_type": "code",
   "execution_count": 75,
   "id": "a416cd10",
   "metadata": {},
   "outputs": [
    {
     "data": {
      "image/png": "[encoded data removed]",
      "text/plain": [
       "<Figure size 1200x700 with 1 Axes>"
      ]
     },
     "metadata": {},
     "output_type": "display_data"
    }
   ],
   "source": [
    "mon_prod = (merged_df.groupby(['Product','spend_month']).agg({'Amount':np.sum}))\n",
    "(pd.pivot_table(mon_prod, values = 'Amount',columns = 'Product', index = 'spend_month')).plot(kind = 'bar',width = 0.8, figsize = (12,7))\n",
    "plt.xticks(rotation = 30)\n",
    "plt.ylabel('Spend')\n",
    "plt.xlabel('Month')\n",
    "plt.title('Monthly spend for each Product')\n",
    "plt.tight_layout()\n",
    "plt.show()"
   ]
  },
  {
   "cell_type": "code",
   "execution_count": 76,
   "id": "35c8536d",
   "metadata": {},
   "outputs": [],
   "source": [
    "#5. Write user defined PYTHON function to perform the following analysis:\n",
    "\n",
    "#You need to find top 10 customers for each cityin terms of their repayment amount by different products and by different \n",
    "#time periods i.e. year or month. The user should be able to specify the product (Gold/Silver/Platinum) and \n",
    "#time period (yearly or monthly) and the function should automatically take these inputs while identifying the \n",
    "#top 10 customers."
   ]
  },
  {
   "cell_type": "code",
   "execution_count": 82,
   "id": "7de239b0",
   "metadata": {},
   "outputs": [],
   "source": [
    "merged_df['Repay.Month'] = pd.to_datetime(merged_df['Repay.Month'])"
   ]
  },
  {
   "cell_type": "code",
   "execution_count": 78,
   "id": "869e12a6",
   "metadata": {},
   "outputs": [],
   "source": [
    "merged_df['repay_mon_name'] = merged_df['Repay.Month'].dt.strftime('%B')\n",
    "merged_df['repay_year'] = merged_df['Repay.Month'].dt.year"
   ]
  },
  {
   "cell_type": "code",
   "execution_count": 81,
   "id": "3daa5ea7",
   "metadata": {},
   "outputs": [
    {
     "data": {
      "text/plain": [
       "Index(['No', 'Customer', 'Age', 'City', 'Product', 'Limit', 'Company',\n",
       "       'Segment', 'Sl No:', 'Month', 'Type', 'Amount', 'SL No:', 'Repay.Month',\n",
       "       'Repay_Amount', 'spend_year', 'spend_month', 'repay_mon_name',\n",
       "       'repay_year'],\n",
       "      dtype='object')"
      ]
     },
     "execution_count": 81,
     "metadata": {},
     "output_type": "execute_result"
    }
   ],
   "source": [
    "merged_df.columns"
   ]
  },
  {
   "cell_type": "code",
   "execution_count": 103,
   "id": "bc7f7c2b",
   "metadata": {},
   "outputs": [
    {
     "name": "stdout",
     "output_type": "stream",
     "text": [
      "Enter product (Gold/Silver/Platinum): Silver\n",
      "Enter time period (yearly or monthly): yearly\n"
     ]
    },
    {
     "data": {
      "text/html": [
       "<div>\n",
       "<style scoped>\n",
       "    .dataframe tbody tr th:only-of-type {\n",
       "        vertical-align: middle;\n",
       "    }\n",
       "\n",
       "    .dataframe tbody tr th {\n",
       "        vertical-align: top;\n",
       "    }\n",
       "\n",
       "    .dataframe thead th {\n",
       "        text-align: right;\n",
       "    }\n",
       "</style>\n",
       "<table border=\"1\" class=\"dataframe\">\n",
       "  <thead>\n",
       "    <tr style=\"text-align: right;\">\n",
       "      <th></th>\n",
       "      <th>City</th>\n",
       "      <th>Customer</th>\n",
       "      <th>repay_year</th>\n",
       "      <th>Repay_Amount</th>\n",
       "    </tr>\n",
       "  </thead>\n",
       "  <tbody>\n",
       "    <tr>\n",
       "      <th>0</th>\n",
       "      <td>BANGALORE</td>\n",
       "      <td>A59</td>\n",
       "      <td>2004</td>\n",
       "      <td>676557.50</td>\n",
       "    </tr>\n",
       "    <tr>\n",
       "      <th>1</th>\n",
       "      <td>BANGALORE</td>\n",
       "      <td>A23</td>\n",
       "      <td>2004</td>\n",
       "      <td>664965.71</td>\n",
       "    </tr>\n",
       "    <tr>\n",
       "      <th>2</th>\n",
       "      <td>BANGALORE</td>\n",
       "      <td>A18</td>\n",
       "      <td>2004</td>\n",
       "      <td>491592.71</td>\n",
       "    </tr>\n",
       "    <tr>\n",
       "      <th>3</th>\n",
       "      <td>BANGALORE</td>\n",
       "      <td>A72</td>\n",
       "      <td>2004</td>\n",
       "      <td>100000.00</td>\n",
       "    </tr>\n",
       "    <tr>\n",
       "      <th>4</th>\n",
       "      <td>BANGALORE</td>\n",
       "      <td>A23</td>\n",
       "      <td>2005</td>\n",
       "      <td>1000010.00</td>\n",
       "    </tr>\n",
       "    <tr>\n",
       "      <th>5</th>\n",
       "      <td>BANGALORE</td>\n",
       "      <td>A18</td>\n",
       "      <td>2005</td>\n",
       "      <td>638296.41</td>\n",
       "    </tr>\n",
       "    <tr>\n",
       "      <th>6</th>\n",
       "      <td>BANGALORE</td>\n",
       "      <td>A59</td>\n",
       "      <td>2005</td>\n",
       "      <td>427247.08</td>\n",
       "    </tr>\n",
       "    <tr>\n",
       "      <th>7</th>\n",
       "      <td>BANGALORE</td>\n",
       "      <td>A76</td>\n",
       "      <td>2005</td>\n",
       "      <td>265619.05</td>\n",
       "    </tr>\n",
       "    <tr>\n",
       "      <th>8</th>\n",
       "      <td>BANGALORE</td>\n",
       "      <td>A23</td>\n",
       "      <td>2006</td>\n",
       "      <td>872925.32</td>\n",
       "    </tr>\n",
       "    <tr>\n",
       "      <th>9</th>\n",
       "      <td>BANGALORE</td>\n",
       "      <td>A18</td>\n",
       "      <td>2006</td>\n",
       "      <td>700000.00</td>\n",
       "    </tr>\n",
       "    <tr>\n",
       "      <th>10</th>\n",
       "      <td>BANGALORE</td>\n",
       "      <td>A59</td>\n",
       "      <td>2006</td>\n",
       "      <td>600018.00</td>\n",
       "    </tr>\n",
       "    <tr>\n",
       "      <th>11</th>\n",
       "      <td>BANGALORE</td>\n",
       "      <td>A77</td>\n",
       "      <td>2006</td>\n",
       "      <td>3159.62</td>\n",
       "    </tr>\n",
       "    <tr>\n",
       "      <th>12</th>\n",
       "      <td>BOMBAY</td>\n",
       "      <td>A22</td>\n",
       "      <td>2004</td>\n",
       "      <td>953419.47</td>\n",
       "    </tr>\n",
       "    <tr>\n",
       "      <th>13</th>\n",
       "      <td>BOMBAY</td>\n",
       "      <td>A22</td>\n",
       "      <td>2005</td>\n",
       "      <td>1141542.81</td>\n",
       "    </tr>\n",
       "    <tr>\n",
       "      <th>14</th>\n",
       "      <td>BOMBAY</td>\n",
       "      <td>A75</td>\n",
       "      <td>2005</td>\n",
       "      <td>100003.00</td>\n",
       "    </tr>\n",
       "    <tr>\n",
       "      <th>15</th>\n",
       "      <td>BOMBAY</td>\n",
       "      <td>A22</td>\n",
       "      <td>2006</td>\n",
       "      <td>945271.83</td>\n",
       "    </tr>\n",
       "    <tr>\n",
       "      <th>16</th>\n",
       "      <td>BOMBAY</td>\n",
       "      <td>A80</td>\n",
       "      <td>2006</td>\n",
       "      <td>481205.64</td>\n",
       "    </tr>\n",
       "    <tr>\n",
       "      <th>17</th>\n",
       "      <td>CALCUTTA</td>\n",
       "      <td>A58</td>\n",
       "      <td>2004</td>\n",
       "      <td>533815.62</td>\n",
       "    </tr>\n",
       "    <tr>\n",
       "      <th>18</th>\n",
       "      <td>CALCUTTA</td>\n",
       "      <td>A2</td>\n",
       "      <td>2004</td>\n",
       "      <td>400000.00</td>\n",
       "    </tr>\n",
       "    <tr>\n",
       "      <th>19</th>\n",
       "      <td>CALCUTTA</td>\n",
       "      <td>A58</td>\n",
       "      <td>2005</td>\n",
       "      <td>540173.85</td>\n",
       "    </tr>\n",
       "    <tr>\n",
       "      <th>20</th>\n",
       "      <td>CALCUTTA</td>\n",
       "      <td>A2</td>\n",
       "      <td>2005</td>\n",
       "      <td>410274.00</td>\n",
       "    </tr>\n",
       "    <tr>\n",
       "      <th>21</th>\n",
       "      <td>CALCUTTA</td>\n",
       "      <td>A73</td>\n",
       "      <td>2005</td>\n",
       "      <td>100001.00</td>\n",
       "    </tr>\n",
       "    <tr>\n",
       "      <th>22</th>\n",
       "      <td>CALCUTTA</td>\n",
       "      <td>A58</td>\n",
       "      <td>2006</td>\n",
       "      <td>411640.17</td>\n",
       "    </tr>\n",
       "    <tr>\n",
       "      <th>23</th>\n",
       "      <td>CALCUTTA</td>\n",
       "      <td>A2</td>\n",
       "      <td>2006</td>\n",
       "      <td>200000.00</td>\n",
       "    </tr>\n",
       "    <tr>\n",
       "      <th>24</th>\n",
       "      <td>CALCUTTA</td>\n",
       "      <td>A87</td>\n",
       "      <td>2006</td>\n",
       "      <td>100003.00</td>\n",
       "    </tr>\n",
       "    <tr>\n",
       "      <th>25</th>\n",
       "      <td>CALCUTTA</td>\n",
       "      <td>A78</td>\n",
       "      <td>2006</td>\n",
       "      <td>55344.81</td>\n",
       "    </tr>\n",
       "    <tr>\n",
       "      <th>26</th>\n",
       "      <td>CHENNAI</td>\n",
       "      <td>A9</td>\n",
       "      <td>2004</td>\n",
       "      <td>380193.34</td>\n",
       "    </tr>\n",
       "    <tr>\n",
       "      <th>27</th>\n",
       "      <td>CHENNAI</td>\n",
       "      <td>A96</td>\n",
       "      <td>2004</td>\n",
       "      <td>100000.00</td>\n",
       "    </tr>\n",
       "    <tr>\n",
       "      <th>28</th>\n",
       "      <td>CHENNAI</td>\n",
       "      <td>A9</td>\n",
       "      <td>2005</td>\n",
       "      <td>500015.00</td>\n",
       "    </tr>\n",
       "    <tr>\n",
       "      <th>29</th>\n",
       "      <td>CHENNAI</td>\n",
       "      <td>A9</td>\n",
       "      <td>2006</td>\n",
       "      <td>697845.29</td>\n",
       "    </tr>\n",
       "    <tr>\n",
       "      <th>30</th>\n",
       "      <td>CHENNAI</td>\n",
       "      <td>A85</td>\n",
       "      <td>2006</td>\n",
       "      <td>100001.00</td>\n",
       "    </tr>\n",
       "    <tr>\n",
       "      <th>31</th>\n",
       "      <td>COCHIN</td>\n",
       "      <td>A25</td>\n",
       "      <td>2004</td>\n",
       "      <td>786338.08</td>\n",
       "    </tr>\n",
       "    <tr>\n",
       "      <th>32</th>\n",
       "      <td>COCHIN</td>\n",
       "      <td>A7</td>\n",
       "      <td>2004</td>\n",
       "      <td>500005.00</td>\n",
       "    </tr>\n",
       "    <tr>\n",
       "      <th>33</th>\n",
       "      <td>COCHIN</td>\n",
       "      <td>A100</td>\n",
       "      <td>2004</td>\n",
       "      <td>69551.19</td>\n",
       "    </tr>\n",
       "    <tr>\n",
       "      <th>34</th>\n",
       "      <td>COCHIN</td>\n",
       "      <td>A25</td>\n",
       "      <td>2005</td>\n",
       "      <td>611555.69</td>\n",
       "    </tr>\n",
       "    <tr>\n",
       "      <th>35</th>\n",
       "      <td>COCHIN</td>\n",
       "      <td>A7</td>\n",
       "      <td>2005</td>\n",
       "      <td>422177.27</td>\n",
       "    </tr>\n",
       "    <tr>\n",
       "      <th>36</th>\n",
       "      <td>COCHIN</td>\n",
       "      <td>A74</td>\n",
       "      <td>2005</td>\n",
       "      <td>100002.00</td>\n",
       "    </tr>\n",
       "    <tr>\n",
       "      <th>37</th>\n",
       "      <td>COCHIN</td>\n",
       "      <td>A25</td>\n",
       "      <td>2006</td>\n",
       "      <td>1000030.00</td>\n",
       "    </tr>\n",
       "    <tr>\n",
       "      <th>38</th>\n",
       "      <td>COCHIN</td>\n",
       "      <td>A7</td>\n",
       "      <td>2006</td>\n",
       "      <td>608997.87</td>\n",
       "    </tr>\n",
       "    <tr>\n",
       "      <th>39</th>\n",
       "      <td>COCHIN</td>\n",
       "      <td>A79</td>\n",
       "      <td>2006</td>\n",
       "      <td>193230.31</td>\n",
       "    </tr>\n",
       "    <tr>\n",
       "      <th>40</th>\n",
       "      <td>DELHI</td>\n",
       "      <td>A6</td>\n",
       "      <td>2004</td>\n",
       "      <td>548574.15</td>\n",
       "    </tr>\n",
       "    <tr>\n",
       "      <th>41</th>\n",
       "      <td>DELHI</td>\n",
       "      <td>A24</td>\n",
       "      <td>2004</td>\n",
       "      <td>397014.53</td>\n",
       "    </tr>\n",
       "    <tr>\n",
       "      <th>42</th>\n",
       "      <td>DELHI</td>\n",
       "      <td>A24</td>\n",
       "      <td>2005</td>\n",
       "      <td>1184870.98</td>\n",
       "    </tr>\n",
       "    <tr>\n",
       "      <th>43</th>\n",
       "      <td>DELHI</td>\n",
       "      <td>A6</td>\n",
       "      <td>2005</td>\n",
       "      <td>427398.18</td>\n",
       "    </tr>\n",
       "    <tr>\n",
       "      <th>44</th>\n",
       "      <td>DELHI</td>\n",
       "      <td>A24</td>\n",
       "      <td>2006</td>\n",
       "      <td>711068.52</td>\n",
       "    </tr>\n",
       "    <tr>\n",
       "      <th>45</th>\n",
       "      <td>DELHI</td>\n",
       "      <td>A6</td>\n",
       "      <td>2006</td>\n",
       "      <td>507280.51</td>\n",
       "    </tr>\n",
       "    <tr>\n",
       "      <th>46</th>\n",
       "      <td>PATNA</td>\n",
       "      <td>A8</td>\n",
       "      <td>2004</td>\n",
       "      <td>800016.00</td>\n",
       "    </tr>\n",
       "    <tr>\n",
       "      <th>47</th>\n",
       "      <td>PATNA</td>\n",
       "      <td>A46</td>\n",
       "      <td>2004</td>\n",
       "      <td>713614.32</td>\n",
       "    </tr>\n",
       "    <tr>\n",
       "      <th>48</th>\n",
       "      <td>PATNA</td>\n",
       "      <td>A46</td>\n",
       "      <td>2005</td>\n",
       "      <td>1116730.89</td>\n",
       "    </tr>\n",
       "    <tr>\n",
       "      <th>49</th>\n",
       "      <td>PATNA</td>\n",
       "      <td>A8</td>\n",
       "      <td>2005</td>\n",
       "      <td>400008.00</td>\n",
       "    </tr>\n",
       "    <tr>\n",
       "      <th>50</th>\n",
       "      <td>PATNA</td>\n",
       "      <td>A46</td>\n",
       "      <td>2006</td>\n",
       "      <td>839228.07</td>\n",
       "    </tr>\n",
       "    <tr>\n",
       "      <th>51</th>\n",
       "      <td>PATNA</td>\n",
       "      <td>A8</td>\n",
       "      <td>2006</td>\n",
       "      <td>531812.40</td>\n",
       "    </tr>\n",
       "    <tr>\n",
       "      <th>52</th>\n",
       "      <td>PATNA</td>\n",
       "      <td>A84</td>\n",
       "      <td>2006</td>\n",
       "      <td>100000.00</td>\n",
       "    </tr>\n",
       "    <tr>\n",
       "      <th>53</th>\n",
       "      <td>TRIVANDRUM</td>\n",
       "      <td>A57</td>\n",
       "      <td>2004</td>\n",
       "      <td>1000010.00</td>\n",
       "    </tr>\n",
       "    <tr>\n",
       "      <th>54</th>\n",
       "      <td>TRIVANDRUM</td>\n",
       "      <td>A68</td>\n",
       "      <td>2004</td>\n",
       "      <td>100000.00</td>\n",
       "    </tr>\n",
       "    <tr>\n",
       "      <th>55</th>\n",
       "      <td>TRIVANDRUM</td>\n",
       "      <td>A57</td>\n",
       "      <td>2005</td>\n",
       "      <td>200002.00</td>\n",
       "    </tr>\n",
       "    <tr>\n",
       "      <th>56</th>\n",
       "      <td>TRIVANDRUM</td>\n",
       "      <td>A57</td>\n",
       "      <td>2006</td>\n",
       "      <td>655926.99</td>\n",
       "    </tr>\n",
       "    <tr>\n",
       "      <th>57</th>\n",
       "      <td>TRIVANDRUM</td>\n",
       "      <td>A86</td>\n",
       "      <td>2006</td>\n",
       "      <td>100002.00</td>\n",
       "    </tr>\n",
       "    <tr>\n",
       "      <th>58</th>\n",
       "      <td>TRIVANDRUM</td>\n",
       "      <td>A68</td>\n",
       "      <td>2006</td>\n",
       "      <td>100000.00</td>\n",
       "    </tr>\n",
       "  </tbody>\n",
       "</table>\n",
       "</div>"
      ],
      "text/plain": [
       "          City Customer  repay_year  Repay_Amount\n",
       "0    BANGALORE      A59        2004     676557.50\n",
       "1    BANGALORE      A23        2004     664965.71\n",
       "2    BANGALORE      A18        2004     491592.71\n",
       "3    BANGALORE      A72        2004     100000.00\n",
       "4    BANGALORE      A23        2005    1000010.00\n",
       "5    BANGALORE      A18        2005     638296.41\n",
       "6    BANGALORE      A59        2005     427247.08\n",
       "7    BANGALORE      A76        2005     265619.05\n",
       "8    BANGALORE      A23        2006     872925.32\n",
       "9    BANGALORE      A18        2006     700000.00\n",
       "10   BANGALORE      A59        2006     600018.00\n",
       "11   BANGALORE      A77        2006       3159.62\n",
       "12      BOMBAY      A22        2004     953419.47\n",
       "13      BOMBAY      A22        2005    1141542.81\n",
       "14      BOMBAY      A75        2005     100003.00\n",
       "15      BOMBAY      A22        2006     945271.83\n",
       "16      BOMBAY      A80        2006     481205.64\n",
       "17    CALCUTTA      A58        2004     533815.62\n",
       "18    CALCUTTA       A2        2004     400000.00\n",
       "19    CALCUTTA      A58        2005     540173.85\n",
       "20    CALCUTTA       A2        2005     410274.00\n",
       "21    CALCUTTA      A73        2005     100001.00\n",
       "22    CALCUTTA      A58        2006     411640.17\n",
       "23    CALCUTTA       A2        2006     200000.00\n",
       "24    CALCUTTA      A87        2006     100003.00\n",
       "25    CALCUTTA      A78        2006      55344.81\n",
       "26     CHENNAI       A9        2004     380193.34\n",
       "27     CHENNAI      A96        2004     100000.00\n",
       "28     CHENNAI       A9        2005     500015.00\n",
       "29     CHENNAI       A9        2006     697845.29\n",
       "30     CHENNAI      A85        2006     100001.00\n",
       "31      COCHIN      A25        2004     786338.08\n",
       "32      COCHIN       A7        2004     500005.00\n",
       "33      COCHIN     A100        2004      69551.19\n",
       "34      COCHIN      A25        2005     611555.69\n",
       "35      COCHIN       A7        2005     422177.27\n",
       "36      COCHIN      A74        2005     100002.00\n",
       "37      COCHIN      A25        2006    1000030.00\n",
       "38      COCHIN       A7        2006     608997.87\n",
       "39      COCHIN      A79        2006     193230.31\n",
       "40       DELHI       A6        2004     548574.15\n",
       "41       DELHI      A24        2004     397014.53\n",
       "42       DELHI      A24        2005    1184870.98\n",
       "43       DELHI       A6        2005     427398.18\n",
       "44       DELHI      A24        2006     711068.52\n",
       "45       DELHI       A6        2006     507280.51\n",
       "46       PATNA       A8        2004     800016.00\n",
       "47       PATNA      A46        2004     713614.32\n",
       "48       PATNA      A46        2005    1116730.89\n",
       "49       PATNA       A8        2005     400008.00\n",
       "50       PATNA      A46        2006     839228.07\n",
       "51       PATNA       A8        2006     531812.40\n",
       "52       PATNA      A84        2006     100000.00\n",
       "53  TRIVANDRUM      A57        2004    1000010.00\n",
       "54  TRIVANDRUM      A68        2004     100000.00\n",
       "55  TRIVANDRUM      A57        2005     200002.00\n",
       "56  TRIVANDRUM      A57        2006     655926.99\n",
       "57  TRIVANDRUM      A86        2006     100002.00\n",
       "58  TRIVANDRUM      A68        2006     100000.00"
      ]
     },
     "execution_count": 103,
     "metadata": {},
     "output_type": "execute_result"
    }
   ],
   "source": [
    "def topcust_by_city(merged_df,product,time_period):\n",
    "    \n",
    "#Filter data for product    \n",
    "    merged_df = merged_df[merged_df['Product']==product]\n",
    "    \n",
    "#Yearly and Monthly based on time period    \n",
    "    if time_period == 'yearly':\n",
    "        time_col = 'repay_year'\n",
    "    elif time_period == 'monthly':\n",
    "        time_col = 'repay_mon_name'\n",
    "        \n",
    "#Group by city, customer and time_period\n",
    "    grouped = merged_df.groupby(['City', 'Customer', time_col])['Repay_Amount'].sum().reset_index()\n",
    "    \n",
    "#Get top 10 customers\n",
    "    \n",
    "    top_10 = grouped.groupby(['City',time_col]).apply(lambda x: x.nlargest(10, 'Repay_Amount')).reset_index(drop=True)\n",
    "        \n",
    "    return top_10\n",
    "\n",
    "product_input = input(\"Enter product (Gold/Silver/Platinum): \")\n",
    "time_period_input = input(\"Enter time period (yearly or monthly): \")\n",
    "\n",
    "topcust_by_city(merged_df,time_period = time_period_input , product = product_input) "
   ]
  },
  {
   "cell_type": "code",
   "execution_count": 102,
   "id": "f227eec6",
   "metadata": {},
   "outputs": [
    {
     "data": {
      "text/html": [
       "<div>\n",
       "<style scoped>\n",
       "    .dataframe tbody tr th:only-of-type {\n",
       "        vertical-align: middle;\n",
       "    }\n",
       "\n",
       "    .dataframe tbody tr th {\n",
       "        vertical-align: top;\n",
       "    }\n",
       "\n",
       "    .dataframe thead th {\n",
       "        text-align: right;\n",
       "    }\n",
       "</style>\n",
       "<table border=\"1\" class=\"dataframe\">\n",
       "  <thead>\n",
       "    <tr style=\"text-align: right;\">\n",
       "      <th></th>\n",
       "      <th>City</th>\n",
       "      <th>Customer</th>\n",
       "      <th>repay_mon_name</th>\n",
       "      <th>Repay_Amount</th>\n",
       "    </tr>\n",
       "  </thead>\n",
       "  <tbody>\n",
       "    <tr>\n",
       "      <th>0</th>\n",
       "      <td>BANGALORE</td>\n",
       "      <td>A14</td>\n",
       "      <td>April</td>\n",
       "      <td>812582.20</td>\n",
       "    </tr>\n",
       "    <tr>\n",
       "      <th>1</th>\n",
       "      <td>BANGALORE</td>\n",
       "      <td>A43</td>\n",
       "      <td>April</td>\n",
       "      <td>612541.80</td>\n",
       "    </tr>\n",
       "    <tr>\n",
       "      <th>2</th>\n",
       "      <td>BANGALORE</td>\n",
       "      <td>A1</td>\n",
       "      <td>April</td>\n",
       "      <td>508949.16</td>\n",
       "    </tr>\n",
       "    <tr>\n",
       "      <th>3</th>\n",
       "      <td>BANGALORE</td>\n",
       "      <td>A13</td>\n",
       "      <td>April</td>\n",
       "      <td>494392.40</td>\n",
       "    </tr>\n",
       "    <tr>\n",
       "      <th>4</th>\n",
       "      <td>BANGALORE</td>\n",
       "      <td>A92</td>\n",
       "      <td>April</td>\n",
       "      <td>459105.69</td>\n",
       "    </tr>\n",
       "    <tr>\n",
       "      <th>...</th>\n",
       "      <td>...</td>\n",
       "      <td>...</td>\n",
       "      <td>...</td>\n",
       "      <td>...</td>\n",
       "    </tr>\n",
       "    <tr>\n",
       "      <th>206</th>\n",
       "      <td>TRIVANDRUM</td>\n",
       "      <td>A28</td>\n",
       "      <td>February</td>\n",
       "      <td>968709.79</td>\n",
       "    </tr>\n",
       "    <tr>\n",
       "      <th>207</th>\n",
       "      <td>TRIVANDRUM</td>\n",
       "      <td>A28</td>\n",
       "      <td>January</td>\n",
       "      <td>1034461.46</td>\n",
       "    </tr>\n",
       "    <tr>\n",
       "      <th>208</th>\n",
       "      <td>TRIVANDRUM</td>\n",
       "      <td>A28</td>\n",
       "      <td>July</td>\n",
       "      <td>380460.40</td>\n",
       "    </tr>\n",
       "    <tr>\n",
       "      <th>209</th>\n",
       "      <td>TRIVANDRUM</td>\n",
       "      <td>A28</td>\n",
       "      <td>March</td>\n",
       "      <td>1547067.86</td>\n",
       "    </tr>\n",
       "    <tr>\n",
       "      <th>210</th>\n",
       "      <td>TRIVANDRUM</td>\n",
       "      <td>A28</td>\n",
       "      <td>May</td>\n",
       "      <td>2233253.41</td>\n",
       "    </tr>\n",
       "  </tbody>\n",
       "</table>\n",
       "<p>211 rows × 4 columns</p>\n",
       "</div>"
      ],
      "text/plain": [
       "           City Customer repay_mon_name  Repay_Amount\n",
       "0     BANGALORE      A14          April     812582.20\n",
       "1     BANGALORE      A43          April     612541.80\n",
       "2     BANGALORE       A1          April     508949.16\n",
       "3     BANGALORE      A13          April     494392.40\n",
       "4     BANGALORE      A92          April     459105.69\n",
       "..          ...      ...            ...           ...\n",
       "206  TRIVANDRUM      A28       February     968709.79\n",
       "207  TRIVANDRUM      A28        January    1034461.46\n",
       "208  TRIVANDRUM      A28           July     380460.40\n",
       "209  TRIVANDRUM      A28          March    1547067.86\n",
       "210  TRIVANDRUM      A28            May    2233253.41\n",
       "\n",
       "[211 rows x 4 columns]"
      ]
     },
     "execution_count": 102,
     "metadata": {},
     "output_type": "execute_result"
    }
   ],
   "source": [
    "topcust_by_city(merged_df,time_period = time_period_input , product = product_input) "
   ]
  }
 ],
 "metadata": {
  "kernelspec": {
   "display_name": "Python 3 (ipykernel)",
   "language": "python",
   "name": "python3"
  },
  "language_info": {
   "codemirror_mode": {
    "name": "ipython",
    "version": 3
   },
   "file_extension": ".py",
   "mimetype": "text/x-python",
   "name": "python",
   "nbconvert_exporter": "python",
   "pygments_lexer": "ipython3",
   "version": "3.11.5"
  }
 },
 "nbformat": 4,
 "nbformat_minor": 5
}
